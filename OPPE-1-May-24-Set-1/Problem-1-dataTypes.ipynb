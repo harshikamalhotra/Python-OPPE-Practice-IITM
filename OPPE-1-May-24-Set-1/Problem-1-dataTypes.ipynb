{
 "cells": [
  {
   "cell_type": "markdown",
   "metadata": {},
   "source": [
    "# Problem 1 - Data types [6 x 5 marks = 30 marks]"
   ]
  },
  {
   "cell_type": "markdown",
   "metadata": {},
   "source": [
    "Implement all the given functions according to the docstrings. There will be 6 function and 6 test cases corresponding to each of the functions."
   ]
  },
  {
   "cell_type": "markdown",
   "metadata": {},
   "source": [
    "## Q. 1"
   ]
  },
  {
   "cell_type": "code",
   "execution_count": 5,
   "metadata": {},
   "outputs": [],
   "source": [
    "def abs_diff_between_sum_and_sum_of_squares(a:int, b:int) -> int:\n",
    "    '''\n",
    "    Given two integers, find the absolute difference between \n",
    "    their sum and the sum of their squares.\n",
    "    Eg. \n",
    "    a, b = 2,3 \n",
    "    sum is 5\n",
    "    sum of squares is 13 \n",
    "    absolute difference is 8\n",
    "\n",
    "    Args:\n",
    "        a - int : The first integer.\n",
    "        b - int : The second integer.\n",
    "\n",
    "    Returns:\n",
    "        int: absolute difference between the sum and the sum of squares\n",
    "    '''\n",
    "    sum = a+b\n",
    "    sumOfSq = (a**2) + (b**2)\n",
    "    absDiff = abs(sum-sumOfSq)\n",
    "    return absDiff"
   ]
  },
  {
   "cell_type": "code",
   "execution_count": 6,
   "metadata": {},
   "outputs": [
    {
     "name": "stdout",
     "output_type": "stream",
     "text": [
      "8\n"
     ]
    }
   ],
   "source": [
    "print(abs_diff_between_sum_and_sum_of_squares(2, 3))"
   ]
  },
  {
   "cell_type": "markdown",
   "metadata": {},
   "source": [
    "## Q. 2"
   ]
  },
  {
   "cell_type": "code",
   "execution_count": 11,
   "metadata": {},
   "outputs": [],
   "source": [
    "def swap_except_middle_three(s: str) -> str:\n",
    "    '''\n",
    "    Given an odd-length string, \n",
    "    swap the parts before and after the middle three characters,\n",
    "    while keeping the middle three characters in place.\n",
    "\n",
    "    Assume the string has at least 5 characters.\n",
    "\n",
    "    Examples:\n",
    "        \"firstabclast1\" -> \"last1abcfirst\"\n",
    "        \"abcdefghi\" -> \"ghidefabc\"\n",
    "\n",
    "    Args:\n",
    "        s (str): The input string of odd length.\n",
    "\n",
    "    Returns:\n",
    "        str: The modified string with the parts swapped.\n",
    "    '''\n",
    "    middleIndex = (len(s)-3) // 2\n",
    "    return s[middleIndex+3:] + s[middleIndex: middleIndex+3] + s[: middleIndex]"
   ]
  },
  {
   "cell_type": "code",
   "execution_count": 12,
   "metadata": {},
   "outputs": [
    {
     "data": {
      "text/plain": [
       "'ghidefabc'"
      ]
     },
     "execution_count": 12,
     "metadata": {},
     "output_type": "execute_result"
    }
   ],
   "source": [
    "s = 'abcdefghi'\n",
    "swap_except_middle_three(s)"
   ]
  },
  {
   "cell_type": "markdown",
   "metadata": {},
   "source": [
    "## Q. 3"
   ]
  },
  {
   "cell_type": "code",
   "execution_count": 18,
   "metadata": {},
   "outputs": [],
   "source": [
    "def interleave_lists(list1, list2, list3):\n",
    "    '''\n",
    "    Given three lists of same length, \n",
    "    interleave them together and return the interleaved list.\n",
    "\n",
    "    Example:\n",
    "        list1 = [1, 2, 3]\n",
    "        list2 = ['a', 'b', 'c']\n",
    "        list3 = [(1,1),(2,2),(3,3)]\n",
    "        output = [1, 'a', (1,1), 2, 'b', (2,2), 3, 'c', (3,3)]\n",
    "\n",
    "    Args:\n",
    "        list1 (list): The first list.\n",
    "        list2 (list): The second list.\n",
    "        list3 (list): The third list.\n",
    "\n",
    "    Returns:\n",
    "        list: A list containing interleaved elements from all three lists.\n",
    "    '''\n",
    "    output = []\n",
    "    for i in range(len(list1)):\n",
    "        output.append(list1[i])\n",
    "        output.append(list2[i])\n",
    "        output.append(list3[i])\n",
    "\n",
    "    return output"
   ]
  },
  {
   "cell_type": "code",
   "execution_count": 20,
   "metadata": {},
   "outputs": [
    {
     "name": "stdout",
     "output_type": "stream",
     "text": [
      "[1, 'a', (1, 1), 2, 'b', (2, 2), 3, 'c', (3, 3)]\n"
     ]
    }
   ],
   "source": [
    "list1 = [1, 2, 3]\n",
    "list2 = ['a', 'b', 'c']\n",
    "list3 = [(1,1),(2,2),(3,3)]\n",
    "\n",
    "print(interleave_lists(list1, list2, list3))"
   ]
  },
  {
   "cell_type": "markdown",
   "metadata": {},
   "source": [
    "## Q. 4"
   ]
  },
  {
   "cell_type": "code",
   "execution_count": 3,
   "metadata": {},
   "outputs": [],
   "source": [
    "def has_more_than_5_unique_digits(num: int) -> bool:\n",
    "    '''\n",
    "    Determine if a given integer has more than 5 unique digits.\n",
    "\n",
    "    Args:\n",
    "        num (int): The input integer.\n",
    "\n",
    "    Returns:\n",
    "        bool: True if the integer has more than 5 unique digits, otherwise False.\n",
    "    '''\n",
    "    strNum = str(num)\n",
    "    uniqueSet = set()\n",
    "\n",
    "    for i in strNum:\n",
    "        uniqueSet.add(i)  \n",
    "\n",
    "    if len(uniqueSet)>5:\n",
    "        return True\n",
    "    else:\n",
    "        return False "
   ]
  },
  {
   "cell_type": "code",
   "execution_count": 7,
   "metadata": {},
   "outputs": [
    {
     "name": "stdout",
     "output_type": "stream",
     "text": [
      "True\n",
      "False\n"
     ]
    }
   ],
   "source": [
    "num = 11222233344445555666\n",
    "print(has_more_than_5_unique_digits(num))\n",
    "\n",
    "num2 = 11222233344433322211\n",
    "print(has_more_than_5_unique_digits(num2))"
   ]
  },
  {
   "cell_type": "markdown",
   "metadata": {},
   "source": [
    "## Q. 5"
   ]
  },
  {
   "cell_type": "code",
   "execution_count": 8,
   "metadata": {},
   "outputs": [],
   "source": [
    "def final_position(pos: tuple, vel: tuple, time:int) -> tuple:\n",
    "    '''\n",
    "    Given an initial position of a point moving in a cartesian plane with a constant velocity, \n",
    "    find the the final position of the point after a given time. \n",
    "\n",
    "    Hint: final position = intial position + velocity * time\n",
    "\n",
    "    Args:\n",
    "        pos - tuple[int]: A tuple representing the position vector (x1, y1).\n",
    "        vel - tuple[int]: A tuple representing the velocity vector (vx, vy).\n",
    "        time - int: time of movement.\n",
    "\n",
    "    Returns:\n",
    "        tuple[int]: A tuple representing the displacement (dx, dy).\n",
    "    '''\n",
    "    x1, y1 = pos\n",
    "    vx, vy = vel\n",
    "\n",
    "    #calculating displacement\n",
    "    dx = vx*time\n",
    "    dy = vy*time\n",
    "\n",
    "    x2 = x1 + dx\n",
    "    y2 = y1 + dy\n",
    "\n",
    "    return (x2, y2)"
   ]
  },
  {
   "cell_type": "code",
   "execution_count": 9,
   "metadata": {},
   "outputs": [
    {
     "name": "stdout",
     "output_type": "stream",
     "text": [
      "(7, 7)\n"
     ]
    }
   ],
   "source": [
    "print(final_position((1,1), (2,2), 3))"
   ]
  },
  {
   "cell_type": "markdown",
   "metadata": {},
   "source": [
    "## Q. 6"
   ]
  },
  {
   "cell_type": "code",
   "execution_count": null,
   "metadata": {},
   "outputs": [],
   "source": [
    "def remove_keys_not_in_list(d: dict, l: list) -> None:\n",
    "    '''\n",
    "    Remove keys from a dictionary that are not present in a given list.\n",
    "    The function modifies the dictionary in place and does not return anything.\n",
    "\n",
    "    Note: \n",
    "        Modifying a dict while iterating over it will give an error in python. \n",
    "        So, make a copy of the dict keys and then iterate over it.\n",
    "\n",
    "    Args:\n",
    "        d (dict): The dictionary to modify.\n",
    "        l (list): The list of keys to keep in the dictionary.\n",
    "\n",
    "    Returns:\n",
    "        None\n",
    "    '''"
   ]
  },
  {
   "cell_type": "code",
   "execution_count": null,
   "metadata": {},
   "outputs": [],
   "source": []
  }
 ],
 "metadata": {
  "kernelspec": {
   "display_name": "Python 3",
   "language": "python",
   "name": "python3"
  },
  "language_info": {
   "codemirror_mode": {
    "name": "ipython",
    "version": 3
   },
   "file_extension": ".py",
   "mimetype": "text/x-python",
   "name": "python",
   "nbconvert_exporter": "python",
   "pygments_lexer": "ipython3",
   "version": "3.12.1"
  }
 },
 "nbformat": 4,
 "nbformat_minor": 2
}
