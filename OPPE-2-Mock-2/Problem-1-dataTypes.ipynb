{
 "cells": [
  {
   "cell_type": "markdown",
   "metadata": {},
   "source": [
    "# Problem 1 - Data Types and Expressions [6 x 5 = 30 Marks]"
   ]
  },
  {
   "cell_type": "markdown",
   "metadata": {},
   "source": [
    "Implement all the functions based on given docstrings. There would be 6 functions and 6 test cases corresponding to each of the functions.\n",
    "\n",
    "*Note*: Use return statements appropriately according to the return type. If return type is None don't return anything. For the function you didn't attempt write pass in the function body or remove the function from the code and don't leave any function body empty which may cause syntax errors."
   ]
  },
  {
   "cell_type": "markdown",
   "metadata": {},
   "source": [
    "## Q.1"
   ]
  },
  {
   "cell_type": "code",
   "execution_count": 1,
   "metadata": {},
   "outputs": [],
   "source": [
    "def percentage_increase(original, new):\n",
    "    '''Calculate the percentage increase from the original value to the new value.\n",
    "\n",
    "    Args:\n",
    "        original (float): The original value.\n",
    "        new (float): The new value.\n",
    "\n",
    "    Returns:\n",
    "        float: The percentage increase.\n",
    "\n",
    "    Examples:\n",
    "    >>> percentage_increase(50, 75)\n",
    "    50.0\n",
    "    >>> percentage_increase(80, 100)\n",
    "    25.0\n",
    "    '''\n",
    "    percentInc = (((new - original)/original)*100)\n",
    "    return float(percentInc)"
   ]
  },
  {
   "cell_type": "code",
   "execution_count": 2,
   "metadata": {},
   "outputs": [
    {
     "name": "stdout",
     "output_type": "stream",
     "text": [
      "50.0\n"
     ]
    }
   ],
   "source": [
    "print(percentage_increase(50, 75))"
   ]
  },
  {
   "cell_type": "markdown",
   "metadata": {},
   "source": [
    "## Q.2"
   ]
  },
  {
   "cell_type": "code",
   "execution_count": 5,
   "metadata": {},
   "outputs": [],
   "source": [
    "def is_ten_digit_even(n):\n",
    "    '''Returns True if the number is a 10 digit even number, False otherwise.\n",
    "\n",
    "    Args: \n",
    "        n (int): The given number. \n",
    "\n",
    "    Returns: \n",
    "        bool : result as True or False. \n",
    "\n",
    "    >>> is_ten_digit_even(8769473839)\n",
    "    False\n",
    "    >>> is_ten_digit_even(9289479278)\n",
    "    True\n",
    "    '''\n",
    "    strNum = str(n)\n",
    "    if int(strNum[-1]) % 2 == 0:\n",
    "        return True\n",
    "    else:\n",
    "        return False"
   ]
  },
  {
   "cell_type": "code",
   "execution_count": 7,
   "metadata": {},
   "outputs": [
    {
     "name": "stdout",
     "output_type": "stream",
     "text": [
      "False\n",
      "True\n"
     ]
    }
   ],
   "source": [
    "print(is_ten_digit_even(8769473839))\n",
    "print(is_ten_digit_even(9289479278))"
   ]
  },
  {
   "cell_type": "markdown",
   "metadata": {},
   "source": [
    "## Q.3"
   ]
  },
  {
   "cell_type": "code",
   "execution_count": null,
   "metadata": {},
   "outputs": [],
   "source": [
    "def find_indices_of_element(l, elem):\n",
    "    '''Find all indices of an element in a list.\n",
    "\n",
    "    Args:\n",
    "        l (list): The input list.\n",
    "        elem: The element to find.\n",
    "\n",
    "    Returns:\n",
    "        list: A list of indices where the element is found.\n",
    "\n",
    "    Examples:\n",
    "    >>> find_indices_of_element([1, 2, 3, 2, 4], 2)\n",
    "    [1, 3]\n",
    "    >>> find_indices_of_element(['a', 'b', 'a', 'c'], 'a')\n",
    "    [0, 2]\n",
    "    '''"
   ]
  },
  {
   "cell_type": "code",
   "execution_count": null,
   "metadata": {},
   "outputs": [],
   "source": []
  },
  {
   "cell_type": "markdown",
   "metadata": {},
   "source": [
    "## Q.4"
   ]
  },
  {
   "cell_type": "code",
   "execution_count": null,
   "metadata": {},
   "outputs": [],
   "source": [
    "def swap_adjacent_elements(t):\n",
    "    '''Swap every pair of adjacent elements in the tuple.\n",
    "\n",
    "    Args:\n",
    "        t (tuple): A tuple of even length.\n",
    "\n",
    "    Returns:\n",
    "        tuple: A new tuple with adjacent elements swapped.\n",
    "\n",
    "    Examples:\n",
    "    >>> swap_adjacent_elements((1, 2, 3, 4, 5, 6))\n",
    "    (2, 1, 4, 3, 6, 5)\n",
    "    >>> swap_adjacent_elements(('a', 'b', 'c', 'd'))\n",
    "    ('b', 'a', 'd', 'c')\n",
    "    '''"
   ]
  },
  {
   "cell_type": "code",
   "execution_count": null,
   "metadata": {},
   "outputs": [],
   "source": []
  },
  {
   "cell_type": "markdown",
   "metadata": {},
   "source": [
    "## Q.5"
   ]
  },
  {
   "cell_type": "code",
   "execution_count": null,
   "metadata": {},
   "outputs": [],
   "source": [
    "def common_chars(word1, word2): \n",
    "    '''Find all the unique common charecters present in the given words\n",
    "    and return them as a string in ascending order.\n",
    "\n",
    "    Arg:\n",
    "        word1 (str) : Input string. \n",
    "        word2 (str) : Input string. \n",
    "\n",
    "    Returns: \n",
    "        str: string of unique common charecters arranged in ascending order. \n",
    "\n",
    "    >>> common_chars('apple', 'ball')\n",
    "    'al'\n",
    "    >>> common_chars('abcde', 'edfci')\n",
    "    'cde'\n",
    "    '''"
   ]
  },
  {
   "cell_type": "code",
   "execution_count": null,
   "metadata": {},
   "outputs": [],
   "source": []
  },
  {
   "cell_type": "markdown",
   "metadata": {},
   "source": [
    "## Q.6"
   ]
  },
  {
   "cell_type": "code",
   "execution_count": null,
   "metadata": {},
   "outputs": [],
   "source": [
    "def count_values_occurrences(d):\n",
    "    '''Count the number of occurrences of each value in the dictionary.\n",
    "\n",
    "    Args:\n",
    "        d (dict): The input dictionary.\n",
    "\n",
    "    Returns:\n",
    "        dict: A dictionary where the keys are the values from the input dictionary, \n",
    "        and the values are their occurrence counts.\n",
    "\n",
    "    Examples:\n",
    "    >>> count_values_occurrences({'a': 1, 'b': 2, 'c': 1})\n",
    "    {1: 2, 2: 1}\n",
    "    >>> count_values_occurrences({1: 'x', 2: 'y', 3: 'x'})\n",
    "    {'x': 2, 'y': 1}\n",
    "    '''"
   ]
  },
  {
   "cell_type": "code",
   "execution_count": null,
   "metadata": {},
   "outputs": [],
   "source": []
  }
 ],
 "metadata": {
  "kernelspec": {
   "display_name": "Python 3",
   "language": "python",
   "name": "python3"
  },
  "language_info": {
   "codemirror_mode": {
    "name": "ipython",
    "version": 3
   },
   "file_extension": ".py",
   "mimetype": "text/x-python",
   "name": "python",
   "nbconvert_exporter": "python",
   "pygments_lexer": "ipython3",
   "version": "3.12.1"
  }
 },
 "nbformat": 4,
 "nbformat_minor": 2
}
